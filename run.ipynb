{
 "cells": [
  {
   "cell_type": "code",
   "execution_count": null,
   "id": "15e7f549",
   "metadata": {},
   "outputs": [],
   "source": [
    "import torch\n",
    "import os\n",
    "\n",
    "from run import run_one"
   ]
  },
  {
   "cell_type": "code",
   "execution_count": null,
   "id": "0c874d6b",
   "metadata": {},
   "outputs": [],
   "source": [
    "device = 'cuda'\n",
    "\n",
    "exp_id = 'test2' # file name of config"
   ]
  },
  {
   "cell_type": "code",
   "execution_count": null,
   "id": "3b96c394",
   "metadata": {},
   "outputs": [],
   "source": [
    "force_deterministic = True\n",
    "\n",
    "if force_deterministic:\n",
    "    os.environ[\"CUBLAS_WORKSPACE_CONFIG\"]=\":4096:8\"\n",
    "    torch.use_deterministic_algorithms(True)"
   ]
  },
  {
   "cell_type": "code",
   "execution_count": null,
   "id": "56c01a8d",
   "metadata": {
    "scrolled": true
   },
   "outputs": [],
   "source": [
    "run_one(exp_id, device=device)"
   ]
  }
 ],
 "metadata": {
  "kernelspec": {
   "display_name": "torch_env",
   "language": "python",
   "name": "python3"
  },
  "language_info": {
   "codemirror_mode": {
    "name": "ipython",
    "version": 3
   },
   "file_extension": ".py",
   "mimetype": "text/x-python",
   "name": "python",
   "nbconvert_exporter": "python",
   "pygments_lexer": "ipython3",
   "version": "3.9.7"
  },
  "vscode": {
   "interpreter": {
    "hash": "b87381ecdc02e1572b9a58823f59a8e8941400aca023076e8f2988695a8fcd12"
   }
  }
 },
 "nbformat": 4,
 "nbformat_minor": 5
}
