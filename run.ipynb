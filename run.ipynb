{
 "cells": [
  {
   "cell_type": "code",
   "execution_count": null,
   "id": "15e7f549",
   "metadata": {},
   "outputs": [],
   "source": [
    "from run import run_one"
   ]
  },
  {
   "cell_type": "code",
   "execution_count": null,
   "id": "0c874d6b",
   "metadata": {},
   "outputs": [],
   "source": [
    "CONFIG_DIR = 'configs/'\n",
    "OUTPUT_DIR = 'output/'\n",
    "\n",
    "exp_id = 'cifar_vgg' # file name of config"
   ]
  },
  {
   "cell_type": "code",
   "execution_count": null,
   "id": "56c01a8d",
   "metadata": {
    "scrolled": true
   },
   "outputs": [],
   "source": [
    "run_one(exp_id)"
   ]
  },
  {
   "cell_type": "code",
   "execution_count": null,
   "id": "62dd9305",
   "metadata": {},
   "outputs": [],
   "source": []
  }
 ],
 "metadata": {
  "kernelspec": {
   "display_name": "Python 3 (ipykernel)",
   "language": "python",
   "name": "python3"
  },
  "language_info": {
   "codemirror_mode": {
    "name": "ipython",
    "version": 3
   },
   "file_extension": ".py",
   "mimetype": "text/x-python",
   "name": "python",
   "nbconvert_exporter": "python",
   "pygments_lexer": "ipython3",
   "version": "3.9.7"
  }
 },
 "nbformat": 4,
 "nbformat_minor": 5
}
