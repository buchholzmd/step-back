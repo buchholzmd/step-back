{
 "cells": [
  {
   "cell_type": "code",
   "execution_count": null,
   "id": "15e7f549",
   "metadata": {},
   "outputs": [],
   "source": [
    "from run import run_one"
   ]
  },
  {
   "cell_type": "code",
   "execution_count": null,
   "id": "0c874d6b",
   "metadata": {},
   "outputs": [],
   "source": [
    "device = 'cuda'\n",
    "force_deterministic = True\n",
    "\n",
    "exp_id = 'test2' # file name of config"
   ]
  },
  {
   "cell_type": "code",
   "execution_count": null,
   "id": "56c01a8d",
   "metadata": {
    "scrolled": true
   },
   "outputs": [],
   "source": [
    "run_one(exp_id, device=device, force_deterministic=force_deterministic)"
   ]
  }
 ],
 "metadata": {
  "kernelspec": {
   "display_name": "torch_env",
   "language": "python",
   "name": "python3"
  },
  "language_info": {
   "codemirror_mode": {
    "name": "ipython",
    "version": 3
   },
   "file_extension": ".py",
   "mimetype": "text/x-python",
   "name": "python",
   "nbconvert_exporter": "python",
   "pygments_lexer": "ipython3",
   "version": "3.9.7"
  },
  "vscode": {
   "interpreter": {
    "hash": "50ea64c0c859916ead1ad0d4585d51a4e3e720408f0bff7fce28c9e0f7473d33"
   }
  }
 },
 "nbformat": 4,
 "nbformat_minor": 5
}
